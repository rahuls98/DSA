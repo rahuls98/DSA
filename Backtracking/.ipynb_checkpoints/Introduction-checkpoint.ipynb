{
 "cells": [
  {
   "cell_type": "markdown",
   "id": "3422426e",
   "metadata": {},
   "source": [
    "### Introduction"
   ]
  },
  {
   "cell_type": "markdown",
   "id": "8c44fd17",
   "metadata": {},
   "source": [
    "Backtracking can be used to solve constraint satisfaction problems. It proceeds by building a state space tree following DFS, and tries to see if at any point, the partial solution it is working on does/does not lead to the goal. If it does not, it trickles up to the last point where there were other options to explore.\n",
    "\n",
    "In other words, the algorithms tries to find the subset of the solution space that matches the given constraints of achieving the goal."
   ]
  },
  {
   "cell_type": "code",
   "execution_count": null,
   "id": "acafb72d",
   "metadata": {},
   "outputs": [],
   "source": []
  }
 ],
 "metadata": {
  "kernelspec": {
   "display_name": "Python 3 (ipykernel)",
   "language": "python",
   "name": "python3"
  },
  "language_info": {
   "codemirror_mode": {
    "name": "ipython",
    "version": 3
   },
   "file_extension": ".py",
   "mimetype": "text/x-python",
   "name": "python",
   "nbconvert_exporter": "python",
   "pygments_lexer": "ipython3",
   "version": "3.10.7"
  }
 },
 "nbformat": 4,
 "nbformat_minor": 5
}
