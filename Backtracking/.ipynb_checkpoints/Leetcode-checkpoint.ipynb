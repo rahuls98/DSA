{
 "cells": [
  {
   "cell_type": "markdown",
   "id": "32dca019",
   "metadata": {},
   "source": [
    "### 39. Combination Sum\n",
    "\n",
    "(https://leetcode.com/problems/combination-sum/description/)"
   ]
  },
  {
   "cell_type": "code",
   "execution_count": 25,
   "id": "cbba9e33",
   "metadata": {},
   "outputs": [],
   "source": [
    "class Solution:\n",
    "    def rec(self, arr, i):\n",
    "        if sum(arr) == self.target:\n",
    "            self.solutions.append(arr)\n",
    "            return\n",
    "        if sum(arr) > self.target:\n",
    "            return\n",
    "        \n",
    "        for ind in range(i, len(self.candidates)):\n",
    "            self.rec([*arr, self.candidates[ind]], ind)\n",
    "\n",
    "    def combinationSum(self, candidates, target: int):\n",
    "        self.solutions = []\n",
    "        self.counters = {}\n",
    "        self.candidates = candidates\n",
    "        self.target = target\n",
    "        self.rec([], 0)\n",
    "        return self.solutions"
   ]
  },
  {
   "cell_type": "markdown",
   "id": "52a2b084",
   "metadata": {},
   "source": [
    "<hr />"
   ]
  },
  {
   "cell_type": "markdown",
   "id": "c0ecc8fb",
   "metadata": {},
   "source": [
    "### 46. Permutations\n",
    "\n",
    "(https://leetcode.com/problems/permutations/description/)"
   ]
  },
  {
   "cell_type": "code",
   "execution_count": 1,
   "id": "019098d5",
   "metadata": {},
   "outputs": [],
   "source": [
    "class Solution:\n",
    "    def rec(self, arr, inc):\n",
    "        if len(arr) == len(self.nums):\n",
    "            self.solutions.append(arr)\n",
    "            return\n",
    "\n",
    "        for i,included in enumerate(inc):\n",
    "            if not included:\n",
    "                inc[i] = True\n",
    "                self.rec([*arr, self.nums[i]], inc)\n",
    "                inc[i] = False\n",
    "\n",
    "    def permute(self, nums):\n",
    "        self.solutions = []\n",
    "        self.nums = nums\n",
    "        inc = [False]*len(nums)\n",
    "        self.rec([], inc)\n",
    "        return self.solutions"
   ]
  },
  {
   "cell_type": "markdown",
   "id": "0ab79336",
   "metadata": {},
   "source": [
    "<hr />"
   ]
  },
  {
   "cell_type": "markdown",
   "id": "1f4b2f3e",
   "metadata": {},
   "source": [
    "### 78. Subsets\n",
    "\n",
    "(https://leetcode.com/problems/subsets/description/)"
   ]
  },
  {
   "cell_type": "code",
   "execution_count": 3,
   "id": "5c6cb1be",
   "metadata": {},
   "outputs": [],
   "source": [
    "class Solution:\n",
    "    def rec(self, subset, i):\n",
    "        if i >= len(self.nums):\n",
    "            self.solution.append(subset)\n",
    "            return\n",
    "\n",
    "        self.rec([*subset, self.nums[i]], i+1)\n",
    "        self.rec([*subset], i+1)\n",
    "\n",
    "\n",
    "    def subsets(self, nums):\n",
    "        self.solution = []\n",
    "        self.nums = nums\n",
    "        self.rec([], 0)\n",
    "        return self.solution"
   ]
  },
  {
   "cell_type": "markdown",
   "id": "973dbd70",
   "metadata": {},
   "source": [
    "<hr />"
   ]
  },
  {
   "cell_type": "code",
   "execution_count": null,
   "id": "18013b5b",
   "metadata": {},
   "outputs": [],
   "source": []
  }
 ],
 "metadata": {
  "kernelspec": {
   "display_name": "Python 3 (ipykernel)",
   "language": "python",
   "name": "python3"
  },
  "language_info": {
   "codemirror_mode": {
    "name": "ipython",
    "version": 3
   },
   "file_extension": ".py",
   "mimetype": "text/x-python",
   "name": "python",
   "nbconvert_exporter": "python",
   "pygments_lexer": "ipython3",
   "version": "3.10.7"
  }
 },
 "nbformat": 4,
 "nbformat_minor": 5
}
