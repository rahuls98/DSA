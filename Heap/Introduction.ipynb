{
 "cells": [
  {
   "cell_type": "markdown",
   "id": "2e853fda",
   "metadata": {},
   "source": [
    "## Properties"
   ]
  },
  {
   "cell_type": "markdown",
   "id": "138a0236",
   "metadata": {},
   "source": [
    "- Array representation of a binary tree:\n",
    "    - node : k\n",
    "    - Its first child is at 2*k + 1.\n",
    "    - Its second child is at 2*k + 2.\n",
    "    - Its parent is at (k - 1) // 2.\n",
    "<br> \n",
    "- A heap is a **complete** binary tree (completely filled left to right)\n",
    "- Insertion of element into heap depends on the number of swaps across the height of the tree, which in the worst case is O(log n)\n",
    "<br>\n",
    "- Insertion steps:\n",
    "    1. Insert at end\n",
    "    2. Keep comparing with parent and swapping until heap property is maintained (Bottom-up heapification)\n",
    "<br>  \n",
    "- Deletion steps:\n",
    "    1. Remove first element\n",
    "    2. Insert last element into first spot\n",
    "    3. Keep comparing with max/min of children and swapping until heap property is maintained (Top-down heapification)"
   ]
  },
  {
   "cell_type": "markdown",
   "id": "bdc849a8",
   "metadata": {},
   "source": [
    "### Min-heap"
   ]
  },
  {
   "cell_type": "code",
   "execution_count": 70,
   "id": "223f6459",
   "metadata": {},
   "outputs": [],
   "source": [
    "import heapq"
   ]
  },
  {
   "cell_type": "code",
   "execution_count": 54,
   "id": "8eae1e7f",
   "metadata": {},
   "outputs": [],
   "source": [
    "l = [2, 5, 3, 7, 6, 8]"
   ]
  },
  {
   "cell_type": "code",
   "execution_count": 65,
   "id": "f5a050d6",
   "metadata": {},
   "outputs": [
    {
     "name": "stdout",
     "output_type": "stream",
     "text": [
      "[2, 5, 3, 7, 6, 8]\n",
      "[1, 4, 2, 5, 6, 8, 3, 7]\n",
      "[2, 4, 3, 5, 6, 8, 7]\n",
      "[1, 4, 3, 5, 6, 8, 7]\n",
      "[2, 4, 3, 5, 6, 8, 7]\n",
      "[2, 3, 5]\n",
      "[8, 7, 6]\n"
     ]
    }
   ],
   "source": [
    "minHeap = [*l]\n",
    "\n",
    "heapq.heapify(minHeap)\n",
    "print(minHeap)\n",
    "\n",
    "heapq.heappush(minHeap, 1)\n",
    "heapq.heappush(minHeap, 4)\n",
    "print(minHeap)\n",
    "\n",
    "heapq.heappop(minHeap)\n",
    "print(minHeap)\n",
    "\n",
    "heapq.heapreplace(minHeap, 1) # equivalent to heappop() followed by heappush()\n",
    "print(minHeap)\n",
    "\n",
    "heapq.heappushpop(minHeap, 2) # equivalent to heappush() followed by heappop()\n",
    "print(minHeap)\n",
    "\n",
    "print(heapq.nsmallest(3, l, key=None))\n",
    "print(heapq.nlargest(3, l, key=None))"
   ]
  },
  {
   "cell_type": "markdown",
   "id": "d6a5dcca",
   "metadata": {},
   "source": [
    "### Max-heap"
   ]
  },
  {
   "cell_type": "code",
   "execution_count": 77,
   "id": "13140ce1",
   "metadata": {},
   "outputs": [
    {
     "name": "stdout",
     "output_type": "stream",
     "text": [
      "[-8, -7, -3, -5, -6, -2]\n"
     ]
    }
   ],
   "source": [
    "maxHeap = []\n",
    "\n",
    "for ele in l:\n",
    "    maxHeap.append(-ele)\n",
    "    \n",
    "heapq.heapify(maxHeap)\n",
    "print(maxHeap)"
   ]
  },
  {
   "cell_type": "markdown",
   "id": "1c28738f",
   "metadata": {},
   "source": [
    "### nth-smallest & nth-largest"
   ]
  },
  {
   "cell_type": "code",
   "execution_count": 67,
   "id": "22d05035",
   "metadata": {},
   "outputs": [
    {
     "name": "stdout",
     "output_type": "stream",
     "text": [
      "[('d', 1), ('b', 3)]\n",
      "[('e', 15), ('c', 10)]\n"
     ]
    }
   ],
   "source": [
    "frequencies = {\n",
    "    'a': 5,\n",
    "    'b': 3,\n",
    "    'c': 10,\n",
    "    'd': 1,\n",
    "    'e': 15\n",
    "}\n",
    "\n",
    "print(heapq.nsmallest(\n",
    "    2, \n",
    "    frequencies.items(), \n",
    "    key=lambda item: item[1])\n",
    ")\n",
    "\n",
    "print(heapq.nlargest(\n",
    "    2, \n",
    "    frequencies.items(), \n",
    "    key=lambda item: item[1])\n",
    ")"
   ]
  },
  {
   "cell_type": "markdown",
   "id": "3b70e9de",
   "metadata": {},
   "source": [
    "### Heapsort"
   ]
  },
  {
   "cell_type": "code",
   "execution_count": 76,
   "id": "653b0993",
   "metadata": {},
   "outputs": [
    {
     "name": "stdout",
     "output_type": "stream",
     "text": [
      "[2, 3, 5, 6, 7, 8]\n"
     ]
    }
   ],
   "source": [
    "heap = [*l]\n",
    "\n",
    "heapq.heapify(heap)\n",
    "heapsorted = []\n",
    "while len(heap) > 0: # O(n)\n",
    "    heapsorted.append(heapq.heappop(heap)) # O(log n)\n",
    "    \n",
    "print(heapsorted)"
   ]
  },
  {
   "cell_type": "code",
   "execution_count": null,
   "id": "ce058816",
   "metadata": {},
   "outputs": [],
   "source": []
  }
 ],
 "metadata": {
  "kernelspec": {
   "display_name": "Python 3 (ipykernel)",
   "language": "python",
   "name": "python3"
  },
  "language_info": {
   "codemirror_mode": {
    "name": "ipython",
    "version": 3
   },
   "file_extension": ".py",
   "mimetype": "text/x-python",
   "name": "python",
   "nbconvert_exporter": "python",
   "pygments_lexer": "ipython3",
   "version": "3.10.7"
  }
 },
 "nbformat": 4,
 "nbformat_minor": 5
}
