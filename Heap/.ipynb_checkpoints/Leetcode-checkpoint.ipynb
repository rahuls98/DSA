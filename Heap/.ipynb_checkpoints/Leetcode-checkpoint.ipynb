{
 "cells": [
  {
   "cell_type": "markdown",
   "id": "f2fb46b4",
   "metadata": {},
   "source": [
    "# 703. Kth Largest Element in a Stream\n",
    "\n",
    "(https://leetcode.com/problems/kth-largest-element-in-a-stream/description/)\n",
    "\n",
    "**Approach** : Using a min-heap maintaining k characters, the first element of the min-heap would be the kth largest element in the data structure."
   ]
  },
  {
   "cell_type": "code",
   "execution_count": 2,
   "id": "97ee8e5c",
   "metadata": {},
   "outputs": [],
   "source": [
    "import heapq\n",
    "\n",
    "class KthLargest:\n",
    "\n",
    "    def __init__(self, k, nums):\n",
    "        self.k = k\n",
    "        self.nums = nums\n",
    "        heapq.heapify(self.nums)\n",
    "        while len(self.nums) > self.k:\n",
    "            heapq.heappop(self.nums)\n",
    "        \n",
    "\n",
    "    def add(self, val):\n",
    "        heapq.heappush(self.nums, val)\n",
    "        if len(self.nums) > self.k:\n",
    "            heapq.heappop(self.nums)\n",
    "        return self.nums[0]"
   ]
  },
  {
   "cell_type": "markdown",
   "id": "15289688",
   "metadata": {},
   "source": [
    "<hr />"
   ]
  },
  {
   "cell_type": "markdown",
   "id": "259af6dd",
   "metadata": {},
   "source": [
    "# 1046. Last Stone Weight\n",
    "\n",
    "(https://leetcode.com/problems/last-stone-weight/description/)\n",
    "\n",
    "**Approach** : The question asks us to extract the two biggest numbers from the array, perform some operation, and edit the array over multiple steps. This indicates the application of the heap data structure. Using a max-heap, we can extract the 2 largest values at each step, and heapify again in case the array is modified."
   ]
  },
  {
   "cell_type": "code",
   "execution_count": 1,
   "id": "2537bbf6",
   "metadata": {},
   "outputs": [],
   "source": [
    "import heapq\n",
    "\n",
    "class Solution:\n",
    "    def lastStoneWeight(self, stones):\n",
    "        heap = []\n",
    "        for stone in stones:\n",
    "            heap.append(-stone)\n",
    "        heapq.heapify(heap)\n",
    "        while len(heap) > 1:\n",
    "            stone1 = -heap[0]\n",
    "            heapq.heappop(heap)\n",
    "            stone2 = -heap[0]\n",
    "            heapq.heappop(heap)\n",
    "            if stone1 != stone2:\n",
    "                heapq.heappush(heap, -(stone1-stone2))\n",
    "        if len(heap) == 0:\n",
    "            return 0\n",
    "        return -heap[0]"
   ]
  },
  {
   "cell_type": "markdown",
   "id": "745ed5ec",
   "metadata": {},
   "source": [
    "<hr />"
   ]
  },
  {
   "cell_type": "markdown",
   "id": "d7ee8dda",
   "metadata": {},
   "source": [
    "# 973. K Closest Points to Origin\n",
    "\n",
    "(https://leetcode.com/problems/k-closest-points-to-origin/description/)"
   ]
  },
  {
   "cell_type": "code",
   "execution_count": 2,
   "id": "bdd08911",
   "metadata": {},
   "outputs": [],
   "source": [
    "import heapq\n",
    "\n",
    "class Solution:\n",
    "    def kClosest(self, points, k):\n",
    "        closestPoint = heapq.nsmallest(\n",
    "            k, \n",
    "            points, \n",
    "            lambda point: ( ((point[0])**2) + ((point[1])**2) )**(1/2)\n",
    "        )\n",
    "        return closestPoint"
   ]
  },
  {
   "cell_type": "markdown",
   "id": "c78b3843",
   "metadata": {},
   "source": [
    "<hr />"
   ]
  },
  {
   "cell_type": "markdown",
   "id": "b06166f7",
   "metadata": {},
   "source": [
    "# 215. Kth Largest Element in an Array\n",
    "\n",
    "(https://leetcode.com/problems/kth-largest-element-in-an-array/description/)"
   ]
  },
  {
   "cell_type": "code",
   "execution_count": 2,
   "id": "0d31473f",
   "metadata": {},
   "outputs": [],
   "source": [
    "import heapq\n",
    "\n",
    "class Solution:\n",
    "    def findKthLargest(self, nums, k):\n",
    "        heapq.heapify(nums)\n",
    "        while len(nums) > k:\n",
    "            heapq.heappop(nums)\n",
    "        return nums[0]"
   ]
  },
  {
   "cell_type": "markdown",
   "id": "3b2f8ca3",
   "metadata": {},
   "source": [
    "<hr />"
   ]
  },
  {
   "cell_type": "markdown",
   "id": "8e4b3fb6",
   "metadata": {},
   "source": [
    "# 295. Find Median from Data Stream\n",
    "\n",
    "(https://leetcode.com/problems/find-median-from-data-stream/description/)"
   ]
  },
  {
   "cell_type": "markdown",
   "id": "bd6fb4d4",
   "metadata": {},
   "source": [
    "##### Without heap"
   ]
  },
  {
   "cell_type": "code",
   "execution_count": 5,
   "id": "e83c1312",
   "metadata": {},
   "outputs": [],
   "source": [
    "import bisect\n",
    "\n",
    "class MedianFinder:\n",
    "\n",
    "    def __init__(self):\n",
    "        self.nums = []\n",
    "        \n",
    "\n",
    "    def addNum(self, num):\n",
    "        bisect.insort(self.nums, num)\n",
    "        \n",
    "\n",
    "    def findMedian(self):\n",
    "        n = len(self.nums)\n",
    "        if n&1 == 1:\n",
    "            return self.nums[n // 2]\n",
    "        else:\n",
    "            midMinus1 = n//2\n",
    "            midPlus1 = n//2 + 1\n",
    "            if midMinus1 < 0 or midPlus1 > len(self.nums):\n",
    "                return None\n",
    "            return (self.nums[midMinus1 - 1] + self.nums[midPlus1 - 1])/2"
   ]
  },
  {
   "cell_type": "markdown",
   "id": "29e281f9",
   "metadata": {},
   "source": [
    "<hr />"
   ]
  },
  {
   "cell_type": "markdown",
   "id": "203719a9",
   "metadata": {},
   "source": [
    "# 846. Hand of Straights | 1296. Divide Array in Sets of K Consecutive Numbers\n",
    "\n",
    "(https://leetcode.com/problems/hand-of-straights/description/)\n",
    "(https://leetcode.com/problems/divide-array-in-sets-of-k-consecutive-numbers/description/)\n",
    "\n",
    "**Approach** : Groups can be formed only using consecutive numbers, and the group is started with the minimum number. A min-heap can be used to maintain the unique digits of the given array, so that each time we pop, we get the next minimum number. A hash-table can be used as a counter for the array elements. Each time we try to create a group, we have to check if enough consecutive digits are available to match the required group size. "
   ]
  },
  {
   "cell_type": "code",
   "execution_count": 1,
   "id": "520b6cce",
   "metadata": {},
   "outputs": [],
   "source": [
    "import heapq\n",
    "from collections import Counter\n",
    "\n",
    "class Solution:\n",
    "    def isNStraightHand(self, hand, groupSize):\n",
    "        if len(hand)%groupSize != 0:\n",
    "            return False\n",
    "        minHeap = list(set(hand))\n",
    "        heapq.heapify(minHeap)\n",
    "        hashTable = Counter(hand)\n",
    "        while minHeap:\n",
    "            minEle = minHeap[0]\n",
    "            if hashTable[minEle] == 0:\n",
    "                heapq.heappop(minHeap)\n",
    "                continue\n",
    "            group = [minEle]\n",
    "            hashTable[minEle] -= 1\n",
    "            for i in range(minEle+1, minEle+groupSize):\n",
    "                if hashTable.get(i, -1) <= 0:\n",
    "                    return False\n",
    "                else:\n",
    "                    hashTable[i] -= 1\n",
    "        return True"
   ]
  },
  {
   "cell_type": "markdown",
   "id": "c9a7a186",
   "metadata": {},
   "source": [
    "<hr />"
   ]
  },
  {
   "cell_type": "code",
   "execution_count": null,
   "id": "bb258a72",
   "metadata": {},
   "outputs": [],
   "source": []
  }
 ],
 "metadata": {
  "kernelspec": {
   "display_name": "Python 3 (ipykernel)",
   "language": "python",
   "name": "python3"
  },
  "language_info": {
   "codemirror_mode": {
    "name": "ipython",
    "version": 3
   },
   "file_extension": ".py",
   "mimetype": "text/x-python",
   "name": "python",
   "nbconvert_exporter": "python",
   "pygments_lexer": "ipython3",
   "version": "3.10.7"
  }
 },
 "nbformat": 4,
 "nbformat_minor": 5
}
