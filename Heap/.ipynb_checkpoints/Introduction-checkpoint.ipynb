{
 "cells": [
  {
   "cell_type": "markdown",
   "id": "c8ec1fd8",
   "metadata": {},
   "source": [
    "## Properties"
   ]
  },
  {
   "cell_type": "markdown",
   "id": "8a27dcfb",
   "metadata": {},
   "source": [
    "- Array representation of a binary tree:\n",
    "    - node : i\n",
    "    - left child : (2 * i) - 1\n",
    "    - right child : (2 * i) + 1\n",
    "    - parent : floor(i / 2)\n",
    "    \n",
    "- A heap is a **complete** binary tree (completely filled left to right)\n",
    "- Insertion of element into heap depends on the number of swaps across the height of the tree, which in the worst case is O(log n)"
   ]
  },
  {
   "cell_type": "markdown",
   "id": "2788717c",
   "metadata": {},
   "source": [
    "### Max-heap implementation"
   ]
  },
  {
   "cell_type": "code",
   "execution_count": 1,
   "id": "f44f0d55",
   "metadata": {},
   "outputs": [],
   "source": [
    "class MaxHeap:\n",
    "    def __init__(self):\n",
    "        self.l = []\n",
    "        \n",
    "    def insert(self, ele):\n",
    "        self.l.append(ele)\n",
    "        i = len(self.l) - 1\n",
    "        j = i // 2\n",
    "        while j >= 0:\n",
    "            if self.l[i] > self.l[j]:\n",
    "                self.l[i],self.l[j] = self.l[j],self.l[i]\n",
    "                \n",
    "    def __str__(self):\n",
    "        return self.l"
   ]
  },
  {
   "cell_type": "code",
   "execution_count": 2,
   "id": "6682ebc0",
   "metadata": {},
   "outputs": [],
   "source": [
    "maxHeap = MaxHeap()"
   ]
  },
  {
   "cell_type": "code",
   "execution_count": 3,
   "id": "12a89c8c",
   "metadata": {},
   "outputs": [
    {
     "name": "stdout",
     "output_type": "stream",
     "text": [
      "[]\n"
     ]
    },
    {
     "ename": "TypeError",
     "evalue": "__str__ returned non-string (type NoneType)",
     "output_type": "error",
     "traceback": [
      "\u001b[0;31m---------------------------------------------------------------------------\u001b[0m",
      "\u001b[0;31mTypeError\u001b[0m                                 Traceback (most recent call last)",
      "Cell \u001b[0;32mIn [3], line 1\u001b[0m\n\u001b[0;32m----> 1\u001b[0m \u001b[38;5;28;43mprint\u001b[39;49m\u001b[43m(\u001b[49m\u001b[43mmaxHeap\u001b[49m\u001b[43m)\u001b[49m\n",
      "\u001b[0;31mTypeError\u001b[0m: __str__ returned non-string (type NoneType)"
     ]
    }
   ],
   "source": [
    "print(maxHeap)"
   ]
  },
  {
   "cell_type": "code",
   "execution_count": null,
   "id": "8bacb0dc",
   "metadata": {},
   "outputs": [],
   "source": []
  }
 ],
 "metadata": {
  "kernelspec": {
   "display_name": "Python 3 (ipykernel)",
   "language": "python",
   "name": "python3"
  },
  "language_info": {
   "codemirror_mode": {
    "name": "ipython",
    "version": 3
   },
   "file_extension": ".py",
   "mimetype": "text/x-python",
   "name": "python",
   "nbconvert_exporter": "python",
   "pygments_lexer": "ipython3",
   "version": "3.10.7"
  }
 },
 "nbformat": 4,
 "nbformat_minor": 5
}
