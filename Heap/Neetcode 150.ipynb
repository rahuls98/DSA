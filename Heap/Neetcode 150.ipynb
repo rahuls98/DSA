{
 "cells": [
  {
   "cell_type": "markdown",
   "id": "f2fb46b4",
   "metadata": {},
   "source": [
    "### 703. Kth Largest Element in a Stream\n",
    "\n",
    "(https://leetcode.com/problems/kth-largest-element-in-a-stream/description/)\n",
    "\n",
    "**Approach** : Using a min-heap maintaining k characters, the first element of the min-heap would be the kth largest element in the data structure."
   ]
  },
  {
   "cell_type": "code",
   "execution_count": 2,
   "id": "97ee8e5c",
   "metadata": {},
   "outputs": [],
   "source": [
    "import heapq\n",
    "\n",
    "class KthLargest:\n",
    "\n",
    "    def __init__(self, k, nums):\n",
    "        self.k = k\n",
    "        self.nums = nums\n",
    "        heapq.heapify(self.nums)\n",
    "        while len(self.nums) > self.k:\n",
    "            heapq.heappop(self.nums)\n",
    "        \n",
    "\n",
    "    def add(self, val):\n",
    "        heapq.heappush(self.nums, val)\n",
    "        if len(self.nums) > self.k:\n",
    "            heapq.heappop(self.nums)\n",
    "        return self.nums[0]"
   ]
  },
  {
   "cell_type": "markdown",
   "id": "15289688",
   "metadata": {},
   "source": [
    "<hr />"
   ]
  },
  {
   "cell_type": "markdown",
   "id": "259af6dd",
   "metadata": {},
   "source": [
    "### 1046. Last Stone Weight\n",
    "\n",
    "(https://leetcode.com/problems/last-stone-weight/description/)\n",
    "\n",
    "**Approach** : The question asks us to extract the two biggest numbers from the array, perform some operation, and edit the array over multiple steps. This indicates the application of the heap data structure. Using a max-heap, we can extract the 2 largest values at each step, and heapify again in case the array is modified."
   ]
  },
  {
   "cell_type": "code",
   "execution_count": 1,
   "id": "2537bbf6",
   "metadata": {},
   "outputs": [],
   "source": [
    "import heapq\n",
    "\n",
    "class Solution:\n",
    "    def lastStoneWeight(self, stones):\n",
    "        heap = []\n",
    "        for stone in stones:\n",
    "            heap.append(-stone)\n",
    "        heapq.heapify(heap)\n",
    "        while len(heap) > 1:\n",
    "            stone1 = -heap[0]\n",
    "            heapq.heappop(heap)\n",
    "            stone2 = -heap[0]\n",
    "            heapq.heappop(heap)\n",
    "            if stone1 != stone2:\n",
    "                heapq.heappush(heap, -(stone1-stone2))\n",
    "        if len(heap) == 0:\n",
    "            return 0\n",
    "        return -heap[0]"
   ]
  },
  {
   "cell_type": "markdown",
   "id": "745ed5ec",
   "metadata": {},
   "source": [
    "<hr />"
   ]
  },
  {
   "cell_type": "markdown",
   "id": "d7ee8dda",
   "metadata": {},
   "source": [
    "### 973. K Closest Points to Origin\n",
    "\n",
    "(https://leetcode.com/problems/k-closest-points-to-origin/description/)"
   ]
  },
  {
   "cell_type": "code",
   "execution_count": 2,
   "id": "bdd08911",
   "metadata": {},
   "outputs": [],
   "source": [
    "import heapq\n",
    "\n",
    "class Solution:\n",
    "    def kClosest(self, points, k):\n",
    "        closestPoint = heapq.nsmallest(\n",
    "            k, \n",
    "            points, \n",
    "            lambda point: ( ((point[0])**2) + ((point[1])**2) )**(1/2)\n",
    "        )\n",
    "        return closestPoint"
   ]
  },
  {
   "cell_type": "markdown",
   "id": "c78b3843",
   "metadata": {},
   "source": [
    "<hr />"
   ]
  },
  {
   "cell_type": "code",
   "execution_count": null,
   "id": "6577032d",
   "metadata": {},
   "outputs": [],
   "source": []
  }
 ],
 "metadata": {
  "kernelspec": {
   "display_name": "Python 3 (ipykernel)",
   "language": "python",
   "name": "python3"
  },
  "language_info": {
   "codemirror_mode": {
    "name": "ipython",
    "version": 3
   },
   "file_extension": ".py",
   "mimetype": "text/x-python",
   "name": "python",
   "nbconvert_exporter": "python",
   "pygments_lexer": "ipython3",
   "version": "3.10.7"
  }
 },
 "nbformat": 4,
 "nbformat_minor": 5
}
